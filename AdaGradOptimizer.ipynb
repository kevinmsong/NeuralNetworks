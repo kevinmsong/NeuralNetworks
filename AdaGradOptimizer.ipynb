{
 "cells": [
  {
   "cell_type": "code",
   "execution_count": null,
   "metadata": {},
   "outputs": [],
   "source": [
    "import numpy as np"
   ]
  },
  {
   "cell_type": "code",
   "execution_count": null,
   "metadata": {},
   "outputs": [],
   "source": [
    "class AdaGrad:\n",
    "    # parameters is a dictionary [{array for w_0's: gradients for w_0's}, {array for w_1's: ...}]\n",
    "    def __init_(self, parameters, learn_rate, k)\n",
    "        self.k = k\n",
    "        self.learn_rate = learn_rate\n",
    "        self.parameters = parameters\n",
    "        \n",
    "        # same dims as parameters[\"grad\"]\n",
    "        self.gs = []\n",
    "        \n",
    "        for parameter_dictionary in parameters:\n",
    "            array_shape = parameter_dictionary[\"array\"].shape\n",
    "            self.gs.append(np.zeros(array_shape))\n",
    "    \n",
    "    def UpdateWeights(self):        \n",
    "        counter = 0\n",
    "        \n",
    "        for parameter_dictionary in self.parameters:\n",
    "            self.gs[counter] = self.gs[counter] * self.k + parameter_dictionary[\"grad\"] ** 2\n",
    "            \n",
    "            parameter_dictionary[\"array\"] = parameter_dictionary[\"array\"] - \\\n",
    "                parameter_dictionary[\"grad\"] * self.learn_rate / (np.sqrt(self.gs[counter] + 1e-99))\n",
    "            \n",
    "            counter += 1\n",
    "        "
   ]
  }
 ],
 "metadata": {
  "kernelspec": {
   "display_name": "Python 3",
   "language": "python",
   "name": "python3"
  },
  "language_info": {
   "codemirror_mode": {
    "name": "ipython",
    "version": 3
   },
   "file_extension": ".py",
   "mimetype": "text/x-python",
   "name": "python",
   "nbconvert_exporter": "python",
   "pygments_lexer": "ipython3",
   "version": "3.7.4"
  }
 },
 "nbformat": 4,
 "nbformat_minor": 4
}
