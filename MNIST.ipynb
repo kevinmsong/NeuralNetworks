{
 "cells": [
  {
   "cell_type": "code",
   "execution_count": 1,
   "metadata": {},
   "outputs": [
    {
     "name": "stderr",
     "output_type": "stream",
     "text": [
      "Using TensorFlow backend.\n"
     ]
    }
   ],
   "source": [
    "import torch\n",
    "import torch.nn as nn\n",
    "import torchvision\n",
    "import numpy as np\n",
    "import pandas as pd\n",
    "from keras.models import Sequential\n",
    "from keras.layers import Dense\n",
    "from keras.layers import InputLayer\n",
    "from keras.layers import Activation\n",
    "from keras.callbacks import EarlyStopping\n",
    "from sklearn.metrics import classification_report"
   ]
  },
  {
   "cell_type": "code",
   "execution_count": 2,
   "metadata": {},
   "outputs": [],
   "source": [
    "np.random.seed(0)"
   ]
  },
  {
   "cell_type": "code",
   "execution_count": 3,
   "metadata": {},
   "outputs": [],
   "source": [
    "train_dataset = torchvision.datasets.MNIST(root=\"./\", train=True, download=True)"
   ]
  },
  {
   "cell_type": "code",
   "execution_count": 4,
   "metadata": {},
   "outputs": [],
   "source": [
    "y_train_dataset = train_dataset.targets.numpy()"
   ]
  },
  {
   "cell_type": "code",
   "execution_count": 5,
   "metadata": {},
   "outputs": [],
   "source": [
    "test = torchvision.datasets.MNIST(root=\"./\", train=False, download=True)"
   ]
  },
  {
   "cell_type": "code",
   "execution_count": 6,
   "metadata": {},
   "outputs": [],
   "source": [
    "y_test = test.targets.numpy()"
   ]
  },
  {
   "cell_type": "code",
   "execution_count": 7,
   "metadata": {},
   "outputs": [],
   "source": [
    "train_dataset = train_dataset.data.numpy()"
   ]
  },
  {
   "cell_type": "code",
   "execution_count": 8,
   "metadata": {},
   "outputs": [],
   "source": [
    "test = test.data.numpy()"
   ]
  },
  {
   "cell_type": "markdown",
   "metadata": {},
   "source": [
    "## Data engineering\n",
    "\n",
    "Train on 45,000 training images, flatten as numpy arrays, normalize by dividing by 255. Validate on 15,000 images and test on 10,000 images."
   ]
  },
  {
   "cell_type": "code",
   "execution_count": 9,
   "metadata": {},
   "outputs": [
    {
     "data": {
      "text/plain": [
       "60000"
      ]
     },
     "execution_count": 9,
     "metadata": {},
     "output_type": "execute_result"
    }
   ],
   "source": [
    "len(train_dataset)"
   ]
  },
  {
   "cell_type": "code",
   "execution_count": 10,
   "metadata": {},
   "outputs": [
    {
     "data": {
      "text/plain": [
       "10000"
      ]
     },
     "execution_count": 10,
     "metadata": {},
     "output_type": "execute_result"
    }
   ],
   "source": [
    "len(test)"
   ]
  },
  {
   "cell_type": "code",
   "execution_count": 11,
   "metadata": {},
   "outputs": [
    {
     "data": {
      "text/plain": [
       "10000"
      ]
     },
     "execution_count": 11,
     "metadata": {},
     "output_type": "execute_result"
    }
   ],
   "source": [
    "len(y_test)"
   ]
  },
  {
   "cell_type": "code",
   "execution_count": 12,
   "metadata": {},
   "outputs": [],
   "source": [
    "train = train_dataset\n",
    "y_train = y_train_dataset"
   ]
  },
  {
   "cell_type": "code",
   "execution_count": 13,
   "metadata": {},
   "outputs": [
    {
     "data": {
      "text/plain": [
       "60000"
      ]
     },
     "execution_count": 13,
     "metadata": {},
     "output_type": "execute_result"
    }
   ],
   "source": [
    "len(train)"
   ]
  },
  {
   "cell_type": "code",
   "execution_count": 14,
   "metadata": {},
   "outputs": [
    {
     "data": {
      "text/plain": [
       "60000"
      ]
     },
     "execution_count": 14,
     "metadata": {},
     "output_type": "execute_result"
    }
   ],
   "source": [
    "len(y_train)"
   ]
  },
  {
   "cell_type": "code",
   "execution_count": 15,
   "metadata": {},
   "outputs": [],
   "source": [
    "X_train = []\n",
    "\n",
    "for i in range(len(train)):\n",
    "    X_train.append(train[i].flatten())"
   ]
  },
  {
   "cell_type": "code",
   "execution_count": 16,
   "metadata": {},
   "outputs": [],
   "source": [
    "X_train = np.array(X_train) / 255"
   ]
  },
  {
   "cell_type": "code",
   "execution_count": 17,
   "metadata": {},
   "outputs": [
    {
     "data": {
      "text/plain": [
       "(60000, 784)"
      ]
     },
     "execution_count": 17,
     "metadata": {},
     "output_type": "execute_result"
    }
   ],
   "source": [
    "X_train.shape"
   ]
  },
  {
   "cell_type": "code",
   "execution_count": 18,
   "metadata": {},
   "outputs": [],
   "source": [
    "X_test = []\n",
    "\n",
    "for i in range(len(test)):\n",
    "    X_test.append(test[i].flatten())"
   ]
  },
  {
   "cell_type": "code",
   "execution_count": 19,
   "metadata": {},
   "outputs": [],
   "source": [
    "X_test = np.array(X_test) / 255"
   ]
  },
  {
   "cell_type": "code",
   "execution_count": 20,
   "metadata": {},
   "outputs": [
    {
     "data": {
      "text/plain": [
       "(10000, 784)"
      ]
     },
     "execution_count": 20,
     "metadata": {},
     "output_type": "execute_result"
    }
   ],
   "source": [
    "X_test.shape"
   ]
  },
  {
   "cell_type": "markdown",
   "metadata": {},
   "source": [
    "One-hot encoding of the labels"
   ]
  },
  {
   "cell_type": "code",
   "execution_count": 21,
   "metadata": {},
   "outputs": [],
   "source": [
    "y_train = np.array(pd.get_dummies(y_train))"
   ]
  },
  {
   "cell_type": "markdown",
   "metadata": {},
   "source": [
    "## Neural network engineering (in Keras)"
   ]
  },
  {
   "cell_type": "markdown",
   "metadata": {},
   "source": [
    "Model 1: logistic regression with 10 hidden nodes and a softmax activation function. Stochastic gradient descent as the optimizer. Trained with early stopping."
   ]
  },
  {
   "cell_type": "code",
   "execution_count": 22,
   "metadata": {},
   "outputs": [],
   "source": [
    "early_stopping_monitor = EarlyStopping(patience=5)"
   ]
  },
  {
   "cell_type": "code",
   "execution_count": 23,
   "metadata": {},
   "outputs": [],
   "source": [
    "model_1 = Sequential()"
   ]
  },
  {
   "cell_type": "code",
   "execution_count": 24,
   "metadata": {},
   "outputs": [],
   "source": [
    "model_1.add(Dense(10, activation=\"relu\", input_dim=784))\n",
    "model_1.add(Activation(\"softmax\"))"
   ]
  },
  {
   "cell_type": "code",
   "execution_count": 25,
   "metadata": {},
   "outputs": [],
   "source": [
    "model_1.compile(optimizer=\"sgd\", loss=\"categorical_crossentropy\", metrics=[\"categorical_accuracy\"])"
   ]
  },
  {
   "cell_type": "code",
   "execution_count": 26,
   "metadata": {},
   "outputs": [
    {
     "name": "stdout",
     "output_type": "stream",
     "text": [
      "Train on 45000 samples, validate on 15000 samples\n",
      "Epoch 1/100\n",
      "45000/45000 [==============================] - 3s 63us/step - loss: 0.9847 - categorical_accuracy: 0.7616 - val_loss: 0.5542 - val_categorical_accuracy: 0.8673\n",
      "Epoch 2/100\n",
      "45000/45000 [==============================] - 3s 58us/step - loss: 0.5112 - categorical_accuracy: 0.8703 - val_loss: 0.4433 - val_categorical_accuracy: 0.8858\n",
      "Epoch 3/100\n",
      "45000/45000 [==============================] - 3s 58us/step - loss: 0.4386 - categorical_accuracy: 0.8839 - val_loss: 0.4029 - val_categorical_accuracy: 0.8941\n",
      "Epoch 4/100\n",
      "45000/45000 [==============================] - 3s 60us/step - loss: 0.4043 - categorical_accuracy: 0.8907 - val_loss: 0.3794 - val_categorical_accuracy: 0.8979\n",
      "Epoch 5/100\n",
      "45000/45000 [==============================] - 3s 58us/step - loss: 0.3831 - categorical_accuracy: 0.8950 - val_loss: 0.3646 - val_categorical_accuracy: 0.9001\n",
      "Epoch 6/100\n",
      "45000/45000 [==============================] - 3s 58us/step - loss: 0.3683 - categorical_accuracy: 0.8981 - val_loss: 0.3532 - val_categorical_accuracy: 0.9032\n",
      "Epoch 7/100\n",
      "45000/45000 [==============================] - 3s 58us/step - loss: 0.3572 - categorical_accuracy: 0.9007 - val_loss: 0.3450 - val_categorical_accuracy: 0.9043\n",
      "Epoch 8/100\n",
      "45000/45000 [==============================] - 3s 58us/step - loss: 0.3485 - categorical_accuracy: 0.9031 - val_loss: 0.3391 - val_categorical_accuracy: 0.9053\n",
      "Epoch 9/100\n",
      "45000/45000 [==============================] - 3s 59us/step - loss: 0.3414 - categorical_accuracy: 0.9047 - val_loss: 0.3331 - val_categorical_accuracy: 0.9075\n",
      "Epoch 10/100\n",
      "45000/45000 [==============================] - 3s 59us/step - loss: 0.3355 - categorical_accuracy: 0.9060 - val_loss: 0.3282 - val_categorical_accuracy: 0.9089\n",
      "Epoch 11/100\n",
      "45000/45000 [==============================] - 3s 59us/step - loss: 0.3303 - categorical_accuracy: 0.9076 - val_loss: 0.3246 - val_categorical_accuracy: 0.9101\n",
      "Epoch 12/100\n",
      "45000/45000 [==============================] - 3s 59us/step - loss: 0.3259 - categorical_accuracy: 0.9088 - val_loss: 0.3217 - val_categorical_accuracy: 0.9114\n",
      "Epoch 13/100\n",
      "45000/45000 [==============================] - 3s 59us/step - loss: 0.3221 - categorical_accuracy: 0.9095 - val_loss: 0.3179 - val_categorical_accuracy: 0.9118\n",
      "Epoch 14/100\n",
      "45000/45000 [==============================] - 3s 58us/step - loss: 0.3185 - categorical_accuracy: 0.9109 - val_loss: 0.3158 - val_categorical_accuracy: 0.9123\n",
      "Epoch 15/100\n",
      "45000/45000 [==============================] - 3s 60us/step - loss: 0.3154 - categorical_accuracy: 0.9116 - val_loss: 0.3132 - val_categorical_accuracy: 0.9123\n",
      "Epoch 16/100\n",
      "45000/45000 [==============================] - 3s 59us/step - loss: 0.3127 - categorical_accuracy: 0.9129 - val_loss: 0.3119 - val_categorical_accuracy: 0.9131\n",
      "Epoch 17/100\n",
      "45000/45000 [==============================] - 3s 59us/step - loss: 0.3101 - categorical_accuracy: 0.9137 - val_loss: 0.3090 - val_categorical_accuracy: 0.9143\n",
      "Epoch 18/100\n",
      "45000/45000 [==============================] - 3s 58us/step - loss: 0.3078 - categorical_accuracy: 0.9142 - val_loss: 0.3076 - val_categorical_accuracy: 0.9141\n",
      "Epoch 19/100\n",
      "45000/45000 [==============================] - 3s 59us/step - loss: 0.3057 - categorical_accuracy: 0.9148 - val_loss: 0.3061 - val_categorical_accuracy: 0.9139\n",
      "Epoch 20/100\n",
      "45000/45000 [==============================] - 3s 61us/step - loss: 0.3037 - categorical_accuracy: 0.9155 - val_loss: 0.3044 - val_categorical_accuracy: 0.9145\n",
      "Epoch 21/100\n",
      "45000/45000 [==============================] - 3s 59us/step - loss: 0.3018 - categorical_accuracy: 0.9159 - val_loss: 0.3032 - val_categorical_accuracy: 0.9151\n",
      "Epoch 22/100\n",
      "45000/45000 [==============================] - 3s 59us/step - loss: 0.3001 - categorical_accuracy: 0.9164 - val_loss: 0.3021 - val_categorical_accuracy: 0.9154\n",
      "Epoch 23/100\n",
      "45000/45000 [==============================] - 3s 58us/step - loss: 0.2984 - categorical_accuracy: 0.9167 - val_loss: 0.3007 - val_categorical_accuracy: 0.9159\n",
      "Epoch 24/100\n",
      "45000/45000 [==============================] - 3s 59us/step - loss: 0.2969 - categorical_accuracy: 0.9169 - val_loss: 0.2995 - val_categorical_accuracy: 0.9162\n",
      "Epoch 25/100\n",
      "45000/45000 [==============================] - 3s 59us/step - loss: 0.2955 - categorical_accuracy: 0.9175 - val_loss: 0.2986 - val_categorical_accuracy: 0.9169\n",
      "Epoch 26/100\n",
      "45000/45000 [==============================] - 3s 59us/step - loss: 0.2941 - categorical_accuracy: 0.9182 - val_loss: 0.2976 - val_categorical_accuracy: 0.9170\n",
      "Epoch 27/100\n",
      "45000/45000 [==============================] - 3s 59us/step - loss: 0.2929 - categorical_accuracy: 0.9182 - val_loss: 0.2971 - val_categorical_accuracy: 0.9169\n",
      "Epoch 28/100\n",
      "45000/45000 [==============================] - 3s 58us/step - loss: 0.2916 - categorical_accuracy: 0.9185 - val_loss: 0.2965 - val_categorical_accuracy: 0.9163\n",
      "Epoch 29/100\n",
      "45000/45000 [==============================] - 3s 59us/step - loss: 0.2905 - categorical_accuracy: 0.9190 - val_loss: 0.2948 - val_categorical_accuracy: 0.9178\n",
      "Epoch 30/100\n",
      "45000/45000 [==============================] - 3s 58us/step - loss: 0.2895 - categorical_accuracy: 0.9194 - val_loss: 0.2947 - val_categorical_accuracy: 0.9169\n",
      "Epoch 31/100\n",
      "45000/45000 [==============================] - 3s 58us/step - loss: 0.2884 - categorical_accuracy: 0.9195 - val_loss: 0.2938 - val_categorical_accuracy: 0.9175\n",
      "Epoch 32/100\n",
      "45000/45000 [==============================] - 3s 59us/step - loss: 0.2873 - categorical_accuracy: 0.9202 - val_loss: 0.2927 - val_categorical_accuracy: 0.9181\n",
      "Epoch 33/100\n",
      "45000/45000 [==============================] - 3s 58us/step - loss: 0.2863 - categorical_accuracy: 0.9196 - val_loss: 0.2923 - val_categorical_accuracy: 0.9187\n",
      "Epoch 34/100\n",
      "45000/45000 [==============================] - 3s 59us/step - loss: 0.2855 - categorical_accuracy: 0.9204 - val_loss: 0.2917 - val_categorical_accuracy: 0.9179\n",
      "Epoch 35/100\n",
      "45000/45000 [==============================] - 3s 59us/step - loss: 0.2846 - categorical_accuracy: 0.9208 - val_loss: 0.2911 - val_categorical_accuracy: 0.9186\n",
      "Epoch 36/100\n",
      "45000/45000 [==============================] - 3s 59us/step - loss: 0.2837 - categorical_accuracy: 0.9211 - val_loss: 0.2914 - val_categorical_accuracy: 0.9185\n",
      "Epoch 37/100\n",
      "45000/45000 [==============================] - 3s 59us/step - loss: 0.2830 - categorical_accuracy: 0.9209 - val_loss: 0.2900 - val_categorical_accuracy: 0.9188\n",
      "Epoch 38/100\n",
      "45000/45000 [==============================] - 3s 59us/step - loss: 0.2822 - categorical_accuracy: 0.9213 - val_loss: 0.2897 - val_categorical_accuracy: 0.9192\n",
      "Epoch 39/100\n",
      "45000/45000 [==============================] - 3s 58us/step - loss: 0.2814 - categorical_accuracy: 0.9214 - val_loss: 0.2888 - val_categorical_accuracy: 0.9197\n",
      "Epoch 40/100\n",
      "45000/45000 [==============================] - 3s 58us/step - loss: 0.2807 - categorical_accuracy: 0.9216 - val_loss: 0.2887 - val_categorical_accuracy: 0.9191\n",
      "Epoch 41/100\n",
      "45000/45000 [==============================] - 3s 58us/step - loss: 0.2798 - categorical_accuracy: 0.9220 - val_loss: 0.2898 - val_categorical_accuracy: 0.9191\n",
      "Epoch 42/100\n",
      "45000/45000 [==============================] - 3s 60us/step - loss: 0.2792 - categorical_accuracy: 0.9221 - val_loss: 0.2887 - val_categorical_accuracy: 0.9191\n",
      "Epoch 43/100\n",
      "45000/45000 [==============================] - 3s 58us/step - loss: 0.2786 - categorical_accuracy: 0.9218 - val_loss: 0.2878 - val_categorical_accuracy: 0.9198\n",
      "Epoch 44/100\n",
      "45000/45000 [==============================] - 3s 58us/step - loss: 0.2779 - categorical_accuracy: 0.9222 - val_loss: 0.2867 - val_categorical_accuracy: 0.9197\n",
      "Epoch 45/100\n",
      "45000/45000 [==============================] - 3s 58us/step - loss: 0.2773 - categorical_accuracy: 0.9222 - val_loss: 0.2867 - val_categorical_accuracy: 0.9206\n",
      "Epoch 46/100\n",
      "45000/45000 [==============================] - 3s 58us/step - loss: 0.2767 - categorical_accuracy: 0.9226 - val_loss: 0.2861 - val_categorical_accuracy: 0.9198\n",
      "Epoch 47/100\n",
      "45000/45000 [==============================] - 3s 58us/step - loss: 0.2761 - categorical_accuracy: 0.9225 - val_loss: 0.2857 - val_categorical_accuracy: 0.9207\n",
      "Epoch 48/100\n"
     ]
    },
    {
     "name": "stdout",
     "output_type": "stream",
     "text": [
      "45000/45000 [==============================] - 3s 58us/step - loss: 0.2755 - categorical_accuracy: 0.9228 - val_loss: 0.2851 - val_categorical_accuracy: 0.9203\n",
      "Epoch 49/100\n",
      "45000/45000 [==============================] - 3s 58us/step - loss: 0.2749 - categorical_accuracy: 0.9232 - val_loss: 0.2848 - val_categorical_accuracy: 0.9205\n",
      "Epoch 50/100\n",
      "45000/45000 [==============================] - 3s 58us/step - loss: 0.2744 - categorical_accuracy: 0.9233 - val_loss: 0.2846 - val_categorical_accuracy: 0.9204\n",
      "Epoch 51/100\n",
      "45000/45000 [==============================] - 3s 58us/step - loss: 0.2738 - categorical_accuracy: 0.9234 - val_loss: 0.2845 - val_categorical_accuracy: 0.9202\n",
      "Epoch 52/100\n",
      "45000/45000 [==============================] - 3s 58us/step - loss: 0.2732 - categorical_accuracy: 0.9237 - val_loss: 0.2839 - val_categorical_accuracy: 0.9205\n",
      "Epoch 53/100\n",
      "45000/45000 [==============================] - 3s 58us/step - loss: 0.2728 - categorical_accuracy: 0.9236 - val_loss: 0.2837 - val_categorical_accuracy: 0.9204\n",
      "Epoch 54/100\n",
      "45000/45000 [==============================] - 3s 58us/step - loss: 0.2722 - categorical_accuracy: 0.9233 - val_loss: 0.2834 - val_categorical_accuracy: 0.9211\n",
      "Epoch 55/100\n",
      "45000/45000 [==============================] - 3s 58us/step - loss: 0.2718 - categorical_accuracy: 0.9234 - val_loss: 0.2828 - val_categorical_accuracy: 0.9211\n",
      "Epoch 56/100\n",
      "45000/45000 [==============================] - 3s 58us/step - loss: 0.2712 - categorical_accuracy: 0.9239 - val_loss: 0.2831 - val_categorical_accuracy: 0.9205\n",
      "Epoch 57/100\n",
      "45000/45000 [==============================] - 3s 58us/step - loss: 0.2708 - categorical_accuracy: 0.9242 - val_loss: 0.2828 - val_categorical_accuracy: 0.9212\n",
      "Epoch 58/100\n",
      "45000/45000 [==============================] - 3s 58us/step - loss: 0.2703 - categorical_accuracy: 0.9244 - val_loss: 0.2822 - val_categorical_accuracy: 0.9205\n",
      "Epoch 59/100\n",
      "45000/45000 [==============================] - 3s 58us/step - loss: 0.2698 - categorical_accuracy: 0.9245 - val_loss: 0.2818 - val_categorical_accuracy: 0.9213\n",
      "Epoch 60/100\n",
      "45000/45000 [==============================] - 3s 58us/step - loss: 0.2694 - categorical_accuracy: 0.9245 - val_loss: 0.2817 - val_categorical_accuracy: 0.9215\n",
      "Epoch 61/100\n",
      "45000/45000 [==============================] - 3s 58us/step - loss: 0.2690 - categorical_accuracy: 0.9240 - val_loss: 0.2811 - val_categorical_accuracy: 0.9219\n",
      "Epoch 62/100\n",
      "45000/45000 [==============================] - 3s 59us/step - loss: 0.2685 - categorical_accuracy: 0.9245 - val_loss: 0.2809 - val_categorical_accuracy: 0.9212\n",
      "Epoch 63/100\n",
      "45000/45000 [==============================] - 3s 61us/step - loss: 0.2680 - categorical_accuracy: 0.9245 - val_loss: 0.2815 - val_categorical_accuracy: 0.9205\n",
      "Epoch 64/100\n",
      "45000/45000 [==============================] - 3s 61us/step - loss: 0.2677 - categorical_accuracy: 0.9247 - val_loss: 0.2805 - val_categorical_accuracy: 0.9219\n",
      "Epoch 65/100\n",
      "45000/45000 [==============================] - 3s 61us/step - loss: 0.2672 - categorical_accuracy: 0.9248 - val_loss: 0.2802 - val_categorical_accuracy: 0.9219\n",
      "Epoch 66/100\n",
      "45000/45000 [==============================] - 3s 62us/step - loss: 0.2668 - categorical_accuracy: 0.9252 - val_loss: 0.2802 - val_categorical_accuracy: 0.9216\n",
      "Epoch 67/100\n",
      "45000/45000 [==============================] - 3s 60us/step - loss: 0.2664 - categorical_accuracy: 0.9255 - val_loss: 0.2796 - val_categorical_accuracy: 0.9222\n",
      "Epoch 68/100\n",
      "45000/45000 [==============================] - 3s 62us/step - loss: 0.2660 - categorical_accuracy: 0.9251 - val_loss: 0.2795 - val_categorical_accuracy: 0.9223\n",
      "Epoch 69/100\n",
      "45000/45000 [==============================] - 3s 60us/step - loss: 0.2657 - categorical_accuracy: 0.9253 - val_loss: 0.2797 - val_categorical_accuracy: 0.9226\n",
      "Epoch 70/100\n",
      "45000/45000 [==============================] - 3s 60us/step - loss: 0.2653 - categorical_accuracy: 0.9254 - val_loss: 0.2791 - val_categorical_accuracy: 0.9225\n",
      "Epoch 71/100\n",
      "45000/45000 [==============================] - 3s 60us/step - loss: 0.2649 - categorical_accuracy: 0.9258 - val_loss: 0.2789 - val_categorical_accuracy: 0.9221\n",
      "Epoch 72/100\n",
      "45000/45000 [==============================] - 3s 60us/step - loss: 0.2646 - categorical_accuracy: 0.9254 - val_loss: 0.2782 - val_categorical_accuracy: 0.9228\n",
      "Epoch 73/100\n",
      "45000/45000 [==============================] - 3s 59us/step - loss: 0.2642 - categorical_accuracy: 0.9259 - val_loss: 0.2783 - val_categorical_accuracy: 0.9225\n",
      "Epoch 74/100\n",
      "45000/45000 [==============================] - 3s 63us/step - loss: 0.2638 - categorical_accuracy: 0.9256 - val_loss: 0.2786 - val_categorical_accuracy: 0.9222\n",
      "Epoch 75/100\n",
      "45000/45000 [==============================] - 3s 60us/step - loss: 0.2635 - categorical_accuracy: 0.9255 - val_loss: 0.2778 - val_categorical_accuracy: 0.9227\n",
      "Epoch 76/100\n",
      "45000/45000 [==============================] - 3s 60us/step - loss: 0.2631 - categorical_accuracy: 0.9260 - val_loss: 0.2780 - val_categorical_accuracy: 0.9220\n",
      "Epoch 77/100\n",
      "45000/45000 [==============================] - 3s 60us/step - loss: 0.2628 - categorical_accuracy: 0.9256 - val_loss: 0.2777 - val_categorical_accuracy: 0.9225\n",
      "Epoch 78/100\n",
      "45000/45000 [==============================] - 3s 60us/step - loss: 0.2624 - categorical_accuracy: 0.9263 - val_loss: 0.2778 - val_categorical_accuracy: 0.9226\n",
      "Epoch 79/100\n",
      "45000/45000 [==============================] - 3s 61us/step - loss: 0.2621 - categorical_accuracy: 0.9263 - val_loss: 0.2777 - val_categorical_accuracy: 0.9223\n",
      "Epoch 80/100\n",
      "45000/45000 [==============================] - 3s 59us/step - loss: 0.2618 - categorical_accuracy: 0.9263 - val_loss: 0.2766 - val_categorical_accuracy: 0.9237\n",
      "Epoch 81/100\n",
      "45000/45000 [==============================] - 3s 59us/step - loss: 0.2615 - categorical_accuracy: 0.9264 - val_loss: 0.2770 - val_categorical_accuracy: 0.9231\n",
      "Epoch 82/100\n",
      "45000/45000 [==============================] - 3s 59us/step - loss: 0.2612 - categorical_accuracy: 0.9262 - val_loss: 0.2775 - val_categorical_accuracy: 0.9229\n",
      "Epoch 83/100\n",
      "45000/45000 [==============================] - 3s 60us/step - loss: 0.2608 - categorical_accuracy: 0.9261 - val_loss: 0.2766 - val_categorical_accuracy: 0.9229\n",
      "Epoch 84/100\n",
      "45000/45000 [==============================] - 3s 60us/step - loss: 0.2606 - categorical_accuracy: 0.9268 - val_loss: 0.2766 - val_categorical_accuracy: 0.9234\n",
      "Epoch 85/100\n",
      "45000/45000 [==============================] - 3s 60us/step - loss: 0.2603 - categorical_accuracy: 0.9266 - val_loss: 0.2762 - val_categorical_accuracy: 0.9230\n",
      "Epoch 86/100\n",
      "45000/45000 [==============================] - 3s 60us/step - loss: 0.2599 - categorical_accuracy: 0.9268 - val_loss: 0.2766 - val_categorical_accuracy: 0.9231\n",
      "Epoch 87/100\n",
      "45000/45000 [==============================] - 3s 60us/step - loss: 0.2597 - categorical_accuracy: 0.9268 - val_loss: 0.2763 - val_categorical_accuracy: 0.9223\n",
      "Epoch 88/100\n",
      "45000/45000 [==============================] - 3s 60us/step - loss: 0.2595 - categorical_accuracy: 0.9270 - val_loss: 0.2759 - val_categorical_accuracy: 0.9233\n",
      "Epoch 89/100\n",
      "45000/45000 [==============================] - 3s 60us/step - loss: 0.2590 - categorical_accuracy: 0.9268 - val_loss: 0.2759 - val_categorical_accuracy: 0.9238\n",
      "Epoch 90/100\n",
      "45000/45000 [==============================] - 3s 60us/step - loss: 0.2589 - categorical_accuracy: 0.9270 - val_loss: 0.2753 - val_categorical_accuracy: 0.9235\n",
      "Epoch 91/100\n",
      "45000/45000 [==============================] - 3s 60us/step - loss: 0.2585 - categorical_accuracy: 0.9270 - val_loss: 0.2755 - val_categorical_accuracy: 0.9232\n",
      "Epoch 92/100\n",
      "45000/45000 [==============================] - 3s 60us/step - loss: 0.2584 - categorical_accuracy: 0.9270 - val_loss: 0.2750 - val_categorical_accuracy: 0.9237\n",
      "Epoch 93/100\n",
      "45000/45000 [==============================] - 3s 60us/step - loss: 0.2580 - categorical_accuracy: 0.9270 - val_loss: 0.2754 - val_categorical_accuracy: 0.9241\n",
      "Epoch 94/100\n",
      "45000/45000 [==============================] - 3s 60us/step - loss: 0.2577 - categorical_accuracy: 0.9275 - val_loss: 0.2749 - val_categorical_accuracy: 0.9238\n",
      "Epoch 95/100\n"
     ]
    },
    {
     "name": "stdout",
     "output_type": "stream",
     "text": [
      "45000/45000 [==============================] - 3s 59us/step - loss: 0.2575 - categorical_accuracy: 0.9276 - val_loss: 0.2745 - val_categorical_accuracy: 0.9243\n",
      "Epoch 96/100\n",
      "45000/45000 [==============================] - 3s 58us/step - loss: 0.2572 - categorical_accuracy: 0.9271 - val_loss: 0.2751 - val_categorical_accuracy: 0.9238\n",
      "Epoch 97/100\n",
      "45000/45000 [==============================] - 3s 58us/step - loss: 0.2570 - categorical_accuracy: 0.9274 - val_loss: 0.2747 - val_categorical_accuracy: 0.9234\n",
      "Epoch 98/100\n",
      "45000/45000 [==============================] - 3s 58us/step - loss: 0.2567 - categorical_accuracy: 0.9273 - val_loss: 0.2746 - val_categorical_accuracy: 0.9241\n",
      "Epoch 99/100\n",
      "45000/45000 [==============================] - 3s 58us/step - loss: 0.2565 - categorical_accuracy: 0.9274 - val_loss: 0.2746 - val_categorical_accuracy: 0.9230\n",
      "Epoch 100/100\n",
      "45000/45000 [==============================] - 3s 57us/step - loss: 0.2562 - categorical_accuracy: 0.9277 - val_loss: 0.2740 - val_categorical_accuracy: 0.9245\n"
     ]
    },
    {
     "data": {
      "text/plain": [
       "<keras.callbacks.callbacks.History at 0x17a64ca8988>"
      ]
     },
     "execution_count": 26,
     "metadata": {},
     "output_type": "execute_result"
    }
   ],
   "source": [
    "model_1.fit(X_train, y_train, validation_split=0.25, epochs=100, callbacks=[early_stopping_monitor])"
   ]
  },
  {
   "cell_type": "markdown",
   "metadata": {},
   "source": [
    "Model 2: feedforward neural network with two 64-node hidden layers and an output softmax layer. ReLU as activation function in the hidden layers with stochastic gradient descent as the optimizer. Trained with early stopping."
   ]
  },
  {
   "cell_type": "code",
   "execution_count": 27,
   "metadata": {},
   "outputs": [],
   "source": [
    "model_2 = Sequential()"
   ]
  },
  {
   "cell_type": "code",
   "execution_count": 28,
   "metadata": {},
   "outputs": [],
   "source": [
    "model_2.add(Dense(64, activation=\"relu\", input_dim=784))\n",
    "model_2.add(Dense(64, activation=\"relu\"))\n",
    "model_2.add(Dense(10, activation=\"softmax\"))"
   ]
  },
  {
   "cell_type": "code",
   "execution_count": 29,
   "metadata": {},
   "outputs": [],
   "source": [
    "model_2.compile(optimizer=\"sgd\", loss=\"categorical_crossentropy\", metrics=[\"categorical_accuracy\"])"
   ]
  },
  {
   "cell_type": "code",
   "execution_count": 30,
   "metadata": {},
   "outputs": [
    {
     "name": "stdout",
     "output_type": "stream",
     "text": [
      "Train on 45000 samples, validate on 15000 samples\n",
      "Epoch 1/100\n",
      "45000/45000 [==============================] - 3s 71us/step - loss: 0.7794 - categorical_accuracy: 0.7965 - val_loss: 0.3782 - val_categorical_accuracy: 0.8927\n",
      "Epoch 2/100\n",
      "45000/45000 [==============================] - 3s 70us/step - loss: 0.3410 - categorical_accuracy: 0.9024 - val_loss: 0.2999 - val_categorical_accuracy: 0.9153\n",
      "Epoch 3/100\n",
      "45000/45000 [==============================] - 3s 70us/step - loss: 0.2882 - categorical_accuracy: 0.9167 - val_loss: 0.2672 - val_categorical_accuracy: 0.9238\n",
      "Epoch 4/100\n",
      "45000/45000 [==============================] - 3s 71us/step - loss: 0.2559 - categorical_accuracy: 0.9258 - val_loss: 0.2443 - val_categorical_accuracy: 0.9322\n",
      "Epoch 5/100\n",
      "45000/45000 [==============================] - 3s 71us/step - loss: 0.2308 - categorical_accuracy: 0.9330 - val_loss: 0.2371 - val_categorical_accuracy: 0.9329\n",
      "Epoch 6/100\n",
      "45000/45000 [==============================] - 3s 70us/step - loss: 0.2102 - categorical_accuracy: 0.9390 - val_loss: 0.2146 - val_categorical_accuracy: 0.9375\n",
      "Epoch 7/100\n",
      "45000/45000 [==============================] - 3s 71us/step - loss: 0.1924 - categorical_accuracy: 0.9446 - val_loss: 0.2134 - val_categorical_accuracy: 0.9367\n",
      "Epoch 8/100\n",
      "45000/45000 [==============================] - 3s 71us/step - loss: 0.1775 - categorical_accuracy: 0.9481 - val_loss: 0.1906 - val_categorical_accuracy: 0.9443\n",
      "Epoch 9/100\n",
      "45000/45000 [==============================] - 3s 71us/step - loss: 0.1647 - categorical_accuracy: 0.9521 - val_loss: 0.1782 - val_categorical_accuracy: 0.9492\n",
      "Epoch 10/100\n",
      "45000/45000 [==============================] - 3s 70us/step - loss: 0.1530 - categorical_accuracy: 0.9556 - val_loss: 0.1676 - val_categorical_accuracy: 0.9521\n",
      "Epoch 11/100\n",
      "45000/45000 [==============================] - 3s 71us/step - loss: 0.1421 - categorical_accuracy: 0.9589 - val_loss: 0.1990 - val_categorical_accuracy: 0.9381\n",
      "Epoch 12/100\n",
      "45000/45000 [==============================] - 3s 70us/step - loss: 0.1336 - categorical_accuracy: 0.9612 - val_loss: 0.1547 - val_categorical_accuracy: 0.9556\n",
      "Epoch 13/100\n",
      "45000/45000 [==============================] - 3s 71us/step - loss: 0.1255 - categorical_accuracy: 0.9642 - val_loss: 0.1527 - val_categorical_accuracy: 0.9554\n",
      "Epoch 14/100\n",
      "45000/45000 [==============================] - 3s 72us/step - loss: 0.1178 - categorical_accuracy: 0.9661 - val_loss: 0.1442 - val_categorical_accuracy: 0.9583\n",
      "Epoch 15/100\n",
      "45000/45000 [==============================] - 3s 70us/step - loss: 0.1111 - categorical_accuracy: 0.9679 - val_loss: 0.1441 - val_categorical_accuracy: 0.9574\n",
      "Epoch 16/100\n",
      "45000/45000 [==============================] - 3s 70us/step - loss: 0.1050 - categorical_accuracy: 0.9697 - val_loss: 0.1409 - val_categorical_accuracy: 0.9593\n",
      "Epoch 17/100\n",
      "45000/45000 [==============================] - 3s 73us/step - loss: 0.0996 - categorical_accuracy: 0.9717 - val_loss: 0.1322 - val_categorical_accuracy: 0.9607\n",
      "Epoch 18/100\n",
      "45000/45000 [==============================] - 3s 73us/step - loss: 0.0943 - categorical_accuracy: 0.9725 - val_loss: 0.1490 - val_categorical_accuracy: 0.9556\n",
      "Epoch 19/100\n",
      "45000/45000 [==============================] - 3s 73us/step - loss: 0.0904 - categorical_accuracy: 0.9742 - val_loss: 0.1309 - val_categorical_accuracy: 0.9621\n",
      "Epoch 20/100\n",
      "45000/45000 [==============================] - 3s 71us/step - loss: 0.0862 - categorical_accuracy: 0.9754 - val_loss: 0.1270 - val_categorical_accuracy: 0.9627\n",
      "Epoch 21/100\n",
      "45000/45000 [==============================] - 3s 72us/step - loss: 0.0826 - categorical_accuracy: 0.9769 - val_loss: 0.1248 - val_categorical_accuracy: 0.9631\n",
      "Epoch 22/100\n",
      "45000/45000 [==============================] - 3s 71us/step - loss: 0.0786 - categorical_accuracy: 0.9777 - val_loss: 0.1215 - val_categorical_accuracy: 0.9635\n",
      "Epoch 23/100\n",
      "45000/45000 [==============================] - 3s 71us/step - loss: 0.0751 - categorical_accuracy: 0.9784 - val_loss: 0.1226 - val_categorical_accuracy: 0.9641\n",
      "Epoch 24/100\n",
      "45000/45000 [==============================] - 3s 71us/step - loss: 0.0722 - categorical_accuracy: 0.9793 - val_loss: 0.1187 - val_categorical_accuracy: 0.9645\n",
      "Epoch 25/100\n",
      "45000/45000 [==============================] - 3s 70us/step - loss: 0.0691 - categorical_accuracy: 0.9803 - val_loss: 0.1206 - val_categorical_accuracy: 0.9636\n",
      "Epoch 26/100\n",
      "45000/45000 [==============================] - 3s 71us/step - loss: 0.0663 - categorical_accuracy: 0.9809 - val_loss: 0.1181 - val_categorical_accuracy: 0.9659\n",
      "Epoch 27/100\n",
      "45000/45000 [==============================] - 3s 71us/step - loss: 0.0636 - categorical_accuracy: 0.9818 - val_loss: 0.1180 - val_categorical_accuracy: 0.9637\n",
      "Epoch 28/100\n",
      "45000/45000 [==============================] - 3s 72us/step - loss: 0.0613 - categorical_accuracy: 0.9825 - val_loss: 0.1163 - val_categorical_accuracy: 0.9663\n",
      "Epoch 29/100\n",
      "45000/45000 [==============================] - 3s 71us/step - loss: 0.0589 - categorical_accuracy: 0.9837 - val_loss: 0.1145 - val_categorical_accuracy: 0.9648\n",
      "Epoch 30/100\n",
      "45000/45000 [==============================] - 3s 71us/step - loss: 0.0564 - categorical_accuracy: 0.9846 - val_loss: 0.1164 - val_categorical_accuracy: 0.9649\n",
      "Epoch 31/100\n",
      "45000/45000 [==============================] - 3s 71us/step - loss: 0.0547 - categorical_accuracy: 0.9850 - val_loss: 0.1119 - val_categorical_accuracy: 0.9667\n",
      "Epoch 32/100\n",
      "45000/45000 [==============================] - 3s 71us/step - loss: 0.0529 - categorical_accuracy: 0.9858 - val_loss: 0.1123 - val_categorical_accuracy: 0.9675\n",
      "Epoch 33/100\n",
      "45000/45000 [==============================] - 3s 72us/step - loss: 0.0507 - categorical_accuracy: 0.9863 - val_loss: 0.1139 - val_categorical_accuracy: 0.9664\n",
      "Epoch 34/100\n",
      "45000/45000 [==============================] - 3s 72us/step - loss: 0.0490 - categorical_accuracy: 0.9870 - val_loss: 0.1129 - val_categorical_accuracy: 0.9674\n",
      "Epoch 35/100\n",
      "45000/45000 [==============================] - 3s 72us/step - loss: 0.0468 - categorical_accuracy: 0.9873 - val_loss: 0.1126 - val_categorical_accuracy: 0.9667\n",
      "Epoch 36/100\n",
      "45000/45000 [==============================] - 3s 73us/step - loss: 0.0453 - categorical_accuracy: 0.9879 - val_loss: 0.1114 - val_categorical_accuracy: 0.9669\n",
      "Epoch 37/100\n",
      "45000/45000 [==============================] - 3s 69us/step - loss: 0.0440 - categorical_accuracy: 0.9881 - val_loss: 0.1101 - val_categorical_accuracy: 0.9672\n",
      "Epoch 38/100\n",
      "45000/45000 [==============================] - 3s 71us/step - loss: 0.0423 - categorical_accuracy: 0.9886 - val_loss: 0.1150 - val_categorical_accuracy: 0.9652\n",
      "Epoch 39/100\n",
      "45000/45000 [==============================] - 3s 70us/step - loss: 0.0407 - categorical_accuracy: 0.9894 - val_loss: 0.1104 - val_categorical_accuracy: 0.9685\n",
      "Epoch 40/100\n",
      "45000/45000 [==============================] - 3s 70us/step - loss: 0.0393 - categorical_accuracy: 0.9898 - val_loss: 0.1108 - val_categorical_accuracy: 0.9685\n",
      "Epoch 41/100\n",
      "45000/45000 [==============================] - 3s 70us/step - loss: 0.0380 - categorical_accuracy: 0.9901 - val_loss: 0.1105 - val_categorical_accuracy: 0.9687\n",
      "Epoch 42/100\n",
      "45000/45000 [==============================] - 3s 71us/step - loss: 0.0367 - categorical_accuracy: 0.9906 - val_loss: 0.1130 - val_categorical_accuracy: 0.9673\n"
     ]
    },
    {
     "data": {
      "text/plain": [
       "<keras.callbacks.callbacks.History at 0x17a3f8b3348>"
      ]
     },
     "execution_count": 30,
     "metadata": {},
     "output_type": "execute_result"
    }
   ],
   "source": [
    "model_2.fit(X_train, y_train, validation_split=0.25, epochs=100, callbacks=[early_stopping_monitor])"
   ]
  },
  {
   "cell_type": "markdown",
   "metadata": {},
   "source": [
    "Model 3: feedforward neural network with four 64-layer hidden nodes and an output softmax layer. ReLU as activation function in the hidden layers with stochastic gradient descent as the optimizer. Trained with early stopping."
   ]
  },
  {
   "cell_type": "code",
   "execution_count": 31,
   "metadata": {},
   "outputs": [],
   "source": [
    "model_3 = Sequential()"
   ]
  },
  {
   "cell_type": "code",
   "execution_count": 32,
   "metadata": {},
   "outputs": [],
   "source": [
    "model_3.add(Dense(64, activation=\"relu\", input_dim=784))\n",
    "model_3.add(Dense(64, activation=\"relu\"))\n",
    "model_3.add(Dense(64, activation=\"relu\"))\n",
    "model_3.add(Dense(64, activation=\"relu\"))\n",
    "model_3.add(Dense(10, activation=\"softmax\"))"
   ]
  },
  {
   "cell_type": "code",
   "execution_count": 33,
   "metadata": {},
   "outputs": [],
   "source": [
    "model_3.compile(optimizer=\"sgd\", loss=\"categorical_crossentropy\", metrics=[\"categorical_accuracy\"])"
   ]
  },
  {
   "cell_type": "code",
   "execution_count": 34,
   "metadata": {},
   "outputs": [
    {
     "name": "stdout",
     "output_type": "stream",
     "text": [
      "Train on 45000 samples, validate on 15000 samples\n",
      "Epoch 1/100\n",
      "45000/45000 [==============================] - 4s 83us/step - loss: 0.9721 - categorical_accuracy: 0.7137 - val_loss: 0.4297 - val_categorical_accuracy: 0.8637\n",
      "Epoch 2/100\n",
      "45000/45000 [==============================] - 4s 80us/step - loss: 0.3271 - categorical_accuracy: 0.9055 - val_loss: 0.2870 - val_categorical_accuracy: 0.9131\n",
      "Epoch 3/100\n",
      "45000/45000 [==============================] - 4s 84us/step - loss: 0.2495 - categorical_accuracy: 0.9281 - val_loss: 0.2394 - val_categorical_accuracy: 0.9299\n",
      "Epoch 4/100\n",
      "45000/45000 [==============================] - 4s 80us/step - loss: 0.2036 - categorical_accuracy: 0.9403 - val_loss: 0.1959 - val_categorical_accuracy: 0.9419\n",
      "Epoch 5/100\n",
      "45000/45000 [==============================] - 4s 79us/step - loss: 0.1726 - categorical_accuracy: 0.9495 - val_loss: 0.3503 - val_categorical_accuracy: 0.8951\n",
      "Epoch 6/100\n",
      "45000/45000 [==============================] - 4s 78us/step - loss: 0.1513 - categorical_accuracy: 0.9551 - val_loss: 0.1719 - val_categorical_accuracy: 0.9483\n",
      "Epoch 7/100\n",
      "45000/45000 [==============================] - 4s 79us/step - loss: 0.1352 - categorical_accuracy: 0.9597 - val_loss: 0.1487 - val_categorical_accuracy: 0.9567\n",
      "Epoch 8/100\n",
      "45000/45000 [==============================] - 4s 79us/step - loss: 0.1210 - categorical_accuracy: 0.9641 - val_loss: 0.1549 - val_categorical_accuracy: 0.9533\n",
      "Epoch 9/100\n",
      "45000/45000 [==============================] - 4s 79us/step - loss: 0.1102 - categorical_accuracy: 0.9675 - val_loss: 0.1403 - val_categorical_accuracy: 0.9586\n",
      "Epoch 10/100\n",
      "45000/45000 [==============================] - 4s 80us/step - loss: 0.1003 - categorical_accuracy: 0.9710 - val_loss: 0.1403 - val_categorical_accuracy: 0.9579\n",
      "Epoch 11/100\n",
      "45000/45000 [==============================] - 4s 80us/step - loss: 0.0930 - categorical_accuracy: 0.9717 - val_loss: 0.1295 - val_categorical_accuracy: 0.9622\n",
      "Epoch 12/100\n",
      "45000/45000 [==============================] - 4s 79us/step - loss: 0.0861 - categorical_accuracy: 0.9739 - val_loss: 0.1270 - val_categorical_accuracy: 0.9621\n",
      "Epoch 13/100\n",
      "45000/45000 [==============================] - 4s 79us/step - loss: 0.0795 - categorical_accuracy: 0.9765 - val_loss: 0.1267 - val_categorical_accuracy: 0.9622\n",
      "Epoch 14/100\n",
      "45000/45000 [==============================] - 4s 79us/step - loss: 0.0738 - categorical_accuracy: 0.9783 - val_loss: 0.1683 - val_categorical_accuracy: 0.9529\n",
      "Epoch 15/100\n",
      "45000/45000 [==============================] - 4s 80us/step - loss: 0.0682 - categorical_accuracy: 0.9798 - val_loss: 0.1193 - val_categorical_accuracy: 0.9649\n",
      "Epoch 16/100\n",
      "45000/45000 [==============================] - 4s 79us/step - loss: 0.0634 - categorical_accuracy: 0.9814 - val_loss: 0.1318 - val_categorical_accuracy: 0.9611\n",
      "Epoch 17/100\n",
      "45000/45000 [==============================] - 4s 80us/step - loss: 0.0590 - categorical_accuracy: 0.9824 - val_loss: 0.1192 - val_categorical_accuracy: 0.9653\n",
      "Epoch 18/100\n",
      "45000/45000 [==============================] - 4s 80us/step - loss: 0.0555 - categorical_accuracy: 0.9834 - val_loss: 0.1182 - val_categorical_accuracy: 0.9655\n",
      "Epoch 19/100\n",
      "45000/45000 [==============================] - 4s 80us/step - loss: 0.0518 - categorical_accuracy: 0.9852 - val_loss: 0.1224 - val_categorical_accuracy: 0.9653\n",
      "Epoch 20/100\n",
      "45000/45000 [==============================] - 4s 79us/step - loss: 0.0486 - categorical_accuracy: 0.9856 - val_loss: 0.1508 - val_categorical_accuracy: 0.9565\n",
      "Epoch 21/100\n",
      "45000/45000 [==============================] - 4s 79us/step - loss: 0.0459 - categorical_accuracy: 0.9863 - val_loss: 0.1252 - val_categorical_accuracy: 0.9656\n",
      "Epoch 22/100\n",
      "45000/45000 [==============================] - 4s 80us/step - loss: 0.0422 - categorical_accuracy: 0.9879 - val_loss: 0.1250 - val_categorical_accuracy: 0.9653\n",
      "Epoch 23/100\n",
      "45000/45000 [==============================] - 4s 80us/step - loss: 0.0396 - categorical_accuracy: 0.9890 - val_loss: 0.1231 - val_categorical_accuracy: 0.9651\n"
     ]
    },
    {
     "data": {
      "text/plain": [
       "<keras.callbacks.callbacks.History at 0x17a68909b08>"
      ]
     },
     "execution_count": 34,
     "metadata": {},
     "output_type": "execute_result"
    }
   ],
   "source": [
    "model_3.fit(X_train, y_train, validation_split=0.25, epochs=100, callbacks=[early_stopping_monitor])"
   ]
  },
  {
   "cell_type": "markdown",
   "metadata": {},
   "source": [
    "Model 4: feedforward neural network with 8 128-layer hidden nodes and an output softmax layer. ReLU as activation function in the hidden layers with stochastic gradient descent as the optimizer. Trained with early stopping."
   ]
  },
  {
   "cell_type": "code",
   "execution_count": 35,
   "metadata": {},
   "outputs": [],
   "source": [
    "model_4 = Sequential()"
   ]
  },
  {
   "cell_type": "code",
   "execution_count": 36,
   "metadata": {},
   "outputs": [],
   "source": [
    "model_4.add(Dense(128, activation=\"relu\", input_dim=784))\n",
    "model_4.add(Dense(128, activation=\"relu\"))\n",
    "model_4.add(Dense(128, activation=\"relu\"))\n",
    "model_4.add(Dense(128, activation=\"relu\"))\n",
    "model_4.add(Dense(128, activation=\"relu\"))\n",
    "model_4.add(Dense(128, activation=\"relu\"))\n",
    "model_4.add(Dense(128, activation=\"relu\"))\n",
    "model_4.add(Dense(128, activation=\"relu\"))\n",
    "model_4.add(Dense(10, activation=\"softmax\"))"
   ]
  },
  {
   "cell_type": "code",
   "execution_count": 37,
   "metadata": {},
   "outputs": [],
   "source": [
    "model_4.compile(optimizer=\"sgd\", loss=\"categorical_crossentropy\", metrics=[\"categorical_accuracy\"])"
   ]
  },
  {
   "cell_type": "code",
   "execution_count": 38,
   "metadata": {},
   "outputs": [
    {
     "name": "stdout",
     "output_type": "stream",
     "text": [
      "Train on 45000 samples, validate on 15000 samples\n",
      "Epoch 1/100\n",
      "45000/45000 [==============================] - 5s 102us/step - loss: 1.1829 - categorical_accuracy: 0.5987 - val_loss: 0.3685 - val_categorical_accuracy: 0.8916\n",
      "Epoch 2/100\n",
      "45000/45000 [==============================] - 5s 101us/step - loss: 0.3012 - categorical_accuracy: 0.9103 - val_loss: 0.3990 - val_categorical_accuracy: 0.8686\n",
      "Epoch 3/100\n",
      "45000/45000 [==============================] - 4s 99us/step - loss: 0.2023 - categorical_accuracy: 0.9393 - val_loss: 0.2222 - val_categorical_accuracy: 0.9303\n",
      "Epoch 4/100\n",
      "45000/45000 [==============================] - 5s 100us/step - loss: 0.1527 - categorical_accuracy: 0.9551 - val_loss: 0.1704 - val_categorical_accuracy: 0.9501\n",
      "Epoch 5/100\n",
      "45000/45000 [==============================] - 5s 101us/step - loss: 0.1242 - categorical_accuracy: 0.9631 - val_loss: 0.1631 - val_categorical_accuracy: 0.9514\n",
      "Epoch 6/100\n",
      "45000/45000 [==============================] - 5s 102us/step - loss: 0.1054 - categorical_accuracy: 0.9678 - val_loss: 0.1254 - val_categorical_accuracy: 0.9625\n",
      "Epoch 7/100\n",
      "45000/45000 [==============================] - 4s 99us/step - loss: 0.0876 - categorical_accuracy: 0.9742 - val_loss: 0.1225 - val_categorical_accuracy: 0.9634\n",
      "Epoch 8/100\n",
      "45000/45000 [==============================] - 4s 99us/step - loss: 0.0752 - categorical_accuracy: 0.9774 - val_loss: 0.1287 - val_categorical_accuracy: 0.9617\n",
      "Epoch 9/100\n",
      "45000/45000 [==============================] - 4s 100us/step - loss: 0.0661 - categorical_accuracy: 0.9800 - val_loss: 0.1135 - val_categorical_accuracy: 0.9685\n",
      "Epoch 10/100\n",
      "45000/45000 [==============================] - 5s 102us/step - loss: 0.0570 - categorical_accuracy: 0.9827 - val_loss: 0.1136 - val_categorical_accuracy: 0.9691\n",
      "Epoch 11/100\n",
      "45000/45000 [==============================] - 5s 102us/step - loss: 0.0489 - categorical_accuracy: 0.9858 - val_loss: 0.1190 - val_categorical_accuracy: 0.9669\n",
      "Epoch 12/100\n",
      "45000/45000 [==============================] - 5s 101us/step - loss: 0.0410 - categorical_accuracy: 0.9876 - val_loss: 0.1219 - val_categorical_accuracy: 0.9658\n",
      "Epoch 13/100\n",
      "45000/45000 [==============================] - 5s 102us/step - loss: 0.0368 - categorical_accuracy: 0.9889 - val_loss: 0.1160 - val_categorical_accuracy: 0.9688\n",
      "Epoch 14/100\n",
      "45000/45000 [==============================] - 5s 101us/step - loss: 0.0315 - categorical_accuracy: 0.9906 - val_loss: 0.1126 - val_categorical_accuracy: 0.9687\n",
      "Epoch 15/100\n",
      "45000/45000 [==============================] - 5s 101us/step - loss: 0.0274 - categorical_accuracy: 0.9916 - val_loss: 0.1177 - val_categorical_accuracy: 0.9690\n",
      "Epoch 16/100\n",
      "45000/45000 [==============================] - 5s 100us/step - loss: 0.0245 - categorical_accuracy: 0.9928 - val_loss: 0.1246 - val_categorical_accuracy: 0.9701\n",
      "Epoch 17/100\n",
      "45000/45000 [==============================] - 4s 100us/step - loss: 0.0206 - categorical_accuracy: 0.9941 - val_loss: 0.1373 - val_categorical_accuracy: 0.9671\n",
      "Epoch 18/100\n",
      "45000/45000 [==============================] - 4s 100us/step - loss: 0.0185 - categorical_accuracy: 0.9950 - val_loss: 0.1286 - val_categorical_accuracy: 0.9696\n",
      "Epoch 19/100\n",
      "45000/45000 [==============================] - 5s 101us/step - loss: 0.0173 - categorical_accuracy: 0.9945 - val_loss: 0.1288 - val_categorical_accuracy: 0.9705\n"
     ]
    },
    {
     "data": {
      "text/plain": [
       "<keras.callbacks.callbacks.History at 0x17b24414708>"
      ]
     },
     "execution_count": 38,
     "metadata": {},
     "output_type": "execute_result"
    }
   ],
   "source": [
    "model_4.fit(X_train, y_train, validation_split=0.25, epochs=100, callbacks=[early_stopping_monitor])"
   ]
  },
  {
   "cell_type": "markdown",
   "metadata": {},
   "source": [
    "Make predictions with best model, obtaining an F1 score on the test set"
   ]
  },
  {
   "cell_type": "code",
   "execution_count": 39,
   "metadata": {},
   "outputs": [],
   "source": [
    "y_hats = model_4.predict(X_test)\n",
    "predictions = np.argmax(y_hats,axis=-1)"
   ]
  },
  {
   "cell_type": "code",
   "execution_count": 40,
   "metadata": {},
   "outputs": [
    {
     "name": "stdout",
     "output_type": "stream",
     "text": [
      "              precision    recall  f1-score   support\n",
      "\n",
      "           0       0.97      0.98      0.98       980\n",
      "           1       1.00      0.98      0.99      1135\n",
      "           2       0.97      0.98      0.98      1032\n",
      "           3       0.97      0.96      0.96      1010\n",
      "           4       0.97      0.96      0.97       982\n",
      "           5       0.96      0.97      0.97       892\n",
      "           6       0.99      0.97      0.98       958\n",
      "           7       0.97      0.97      0.97      1028\n",
      "           8       0.97      0.97      0.97       974\n",
      "           9       0.94      0.97      0.96      1009\n",
      "\n",
      "    accuracy                           0.97     10000\n",
      "   macro avg       0.97      0.97      0.97     10000\n",
      "weighted avg       0.97      0.97      0.97     10000\n",
      "\n"
     ]
    }
   ],
   "source": [
    "print(classification_report(y_test, predictions))"
   ]
  }
 ],
 "metadata": {
  "kernelspec": {
   "display_name": "Python 3",
   "language": "python",
   "name": "python3"
  },
  "language_info": {
   "codemirror_mode": {
    "name": "ipython",
    "version": 3
   },
   "file_extension": ".py",
   "mimetype": "text/x-python",
   "name": "python",
   "nbconvert_exporter": "python",
   "pygments_lexer": "ipython3",
   "version": "3.7.6"
  }
 },
 "nbformat": 4,
 "nbformat_minor": 4
}
