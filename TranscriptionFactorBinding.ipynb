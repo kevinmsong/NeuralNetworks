{
 "cells": [
  {
   "cell_type": "code",
   "execution_count": 1,
   "id": "945da946-6532-4f6b-bb33-308f25ece94f",
   "metadata": {},
   "outputs": [],
   "source": [
    "import numpy as np\n",
    "from numpy import argmax\n",
    "import pandas as pd\n",
    "import os\n",
    "from keras import backend as K\n",
    "import keras\n",
    "from tqdm.keras import TqdmCallback\n",
    "from tensorflow.keras.callbacks import ReduceLROnPlateau, ModelCheckpoint\n",
    "import tensorflow as tf\n",
    "import tensorflow.keras.layers as layers\n",
    "import matplotlib.pyplot as plt\n",
    "import random as rn"
   ]
  },
  {
   "cell_type": "code",
   "execution_count": 2,
   "id": "c60324bf-76fc-4110-b47f-0a03469b9e1d",
   "metadata": {},
   "outputs": [],
   "source": [
    "train_path = 'C:\\\\Users\\\\Kevin\\\\Documents\\\\Bioinformatics\\\\tf_prediction\\\\JUND_TF\\\\train\\\\'\n",
    "test_path = 'C:\\\\Users\\\\Kevin\\\\Documents\\\\Bioinformatics\\\\tf_prediction\\\\JUND_TF\\\\test\\\\'\n",
    "valid_path = 'C:\\\\Users\\\\Kevin\\\\Documents\\\\Bioinformatics\\\\tf_prediction\\\\JUND_TF\\\\valid\\\\'"
   ]
  },
  {
   "cell_type": "markdown",
   "id": "4d2f218e-45f7-4725-9099-6bca0c6d50bb",
   "metadata": {},
   "source": [
    "features (x): sample number x 101-length base pair fragments (ACGT) x A C G or T\n",
    "\n",
    "label (y): presence/absence of JunD transcription factor binding site\n",
    "\n",
    "weights (w): weights of each sample\n",
    "\n",
    "train dimensions: "
   ]
  },
  {
   "cell_type": "code",
   "execution_count": 3,
   "id": "620a1dd6-3057-4ad3-9911-dd5295f41bd9",
   "metadata": {},
   "outputs": [],
   "source": [
    "with open(train_path+'train_X.npy','rb') as f:\n",
    "    train_X = np.load(f)\n",
    "    \n",
    "with open(train_path+'train_y.npy','rb') as f:\n",
    "    train_y = np.load(f)\n",
    "    \n",
    "with open(train_path+'train_w.npy','rb') as f:\n",
    "    train_w = np.load(f)"
   ]
  },
  {
   "cell_type": "code",
   "execution_count": 4,
   "id": "03a7500d-c63f-4594-8243-8b9c6f8e11c1",
   "metadata": {},
   "outputs": [],
   "source": [
    "with open(valid_path+'valid_X.npy','rb') as f:\n",
    "    valid_X = np.load(f)\n",
    "    \n",
    "with open(valid_path+'valid_y.npy','rb') as f:\n",
    "    valid_y = np.load(f)\n",
    "    \n",
    "with open(valid_path+'valid_w.npy','rb') as f:\n",
    "    valid_w = np.load(f)"
   ]
  },
  {
   "cell_type": "code",
   "execution_count": 5,
   "id": "c4ec2f66-9cce-45f6-9c93-9a6968ac4849",
   "metadata": {},
   "outputs": [],
   "source": [
    "with open(test_path+'test_X.npy','rb') as f:\n",
    "    test_X = np.load(f)\n",
    "    \n",
    "with open(test_path+'test_y.npy','rb') as f:\n",
    "    test_y = np.load(f)\n",
    "    \n",
    "with open(test_path+'test_w.npy','rb') as f:\n",
    "    test_w = np.load(f)"
   ]
  },
  {
   "cell_type": "code",
   "execution_count": 6,
   "id": "d85a0d4c-5530-4ccd-94f6-7fc84afff2fb",
   "metadata": {},
   "outputs": [
    {
     "data": {
      "text/plain": [
       "(276216, 101, 4)"
      ]
     },
     "execution_count": 6,
     "metadata": {},
     "output_type": "execute_result"
    }
   ],
   "source": [
    "train_X.shape"
   ]
  },
  {
   "cell_type": "code",
   "execution_count": 7,
   "id": "34341d2b-aaee-4a0b-ad75-79b22c9b1abc",
   "metadata": {},
   "outputs": [
    {
     "data": {
      "text/plain": [
       "(276216, 1)"
      ]
     },
     "execution_count": 7,
     "metadata": {},
     "output_type": "execute_result"
    }
   ],
   "source": [
    "train_y.shape"
   ]
  },
  {
   "cell_type": "code",
   "execution_count": 8,
   "id": "2e08a7f6-0878-4f4c-8989-ee54c00c15e9",
   "metadata": {},
   "outputs": [
    {
     "data": {
      "text/plain": [
       "(276216, 1)"
      ]
     },
     "execution_count": 8,
     "metadata": {},
     "output_type": "execute_result"
    }
   ],
   "source": [
    "train_w.shape"
   ]
  },
  {
   "cell_type": "code",
   "execution_count": 9,
   "id": "dd98fcd6-8c05-4a01-9a43-3cb75cc101e5",
   "metadata": {},
   "outputs": [],
   "source": [
    "def conv1d_model(drop_id=True, in_shape=(101,4)):\n",
    "        model = keras.models.Sequential([\n",
    "            keras.layers.Conv1D(15, \n",
    "                                kernel_size=10,\n",
    "                                padding=\"same\", \n",
    "                                activation=\"relu\", \n",
    "                                input_shape=in_shape),\n",
    "            keras.layers.Conv1D(15, \n",
    "                                kernel_size=10,\n",
    "                                padding=\"same\", \n",
    "                                activation=\"relu\"),\n",
    "            keras.layers.Conv1D(15, \n",
    "                                kernel_size=10,\n",
    "                                padding=\"same\", \n",
    "                                activation=\"relu\"),\n",
    "            keras.layers.Flatten(),\n",
    "            keras.layers.Dense(1,activation='sigmoid')])\n",
    "        return model"
   ]
  },
  {
   "cell_type": "code",
   "execution_count": 10,
   "id": "6f9117ee-ea18-4f9a-8499-18a80e0f0909",
   "metadata": {},
   "outputs": [
    {
     "data": {
      "application/vnd.jupyter.widget-view+json": {
       "model_id": "f4eef737972f4133849b856ce4ceac4a",
       "version_major": 2,
       "version_minor": 0
      },
      "text/plain": [
       "0epoch [00:00, ?epoch/s]"
      ]
     },
     "metadata": {},
     "output_type": "display_data"
    },
    {
     "name": "stdout",
     "output_type": "stream",
     "text": [
      "Epoch 1/10\n",
      "540/540 [==============================] - 18s 32ms/step - loss: 0.6955 - auc: 0.5134 - val_loss: 0.8895 - val_auc: 0.5931\n",
      "Epoch 2/10\n",
      "540/540 [==============================] - 17s 32ms/step - loss: 0.6941 - auc: 0.5712 - val_loss: 0.7163 - val_auc: 0.5961\n",
      "Epoch 3/10\n",
      "540/540 [==============================] - 17s 32ms/step - loss: 0.7123 - auc: 0.5995 - val_loss: 0.8173 - val_auc: 0.5502\n",
      "Epoch 4/10\n",
      "540/540 [==============================] - 18s 33ms/step - loss: 0.7153 - auc: 0.6077 - val_loss: 0.6410 - val_auc: 0.5687\n",
      "Epoch 5/10\n",
      "540/540 [==============================] - 18s 33ms/step - loss: 0.7512 - auc: 0.6054 - val_loss: 0.6000 - val_auc: 0.5753\n",
      "Epoch 6/10\n",
      "540/540 [==============================] - 18s 33ms/step - loss: 0.7356 - auc: 0.6037 - val_loss: 0.7283 - val_auc: 0.5605\n",
      "Epoch 7/10\n",
      "540/540 [==============================] - 18s 33ms/step - loss: 1.0128 - auc: 0.5838 - val_loss: 0.6555 - val_auc: 0.5294\n",
      "Epoch 8/10\n",
      "540/540 [==============================] - 18s 33ms/step - loss: 0.8991 - auc: 0.5741 - val_loss: 0.6376 - val_auc: 0.5186\n",
      "Epoch 9/10\n",
      "540/540 [==============================] - 18s 33ms/step - loss: 1.1750 - auc: 0.5771 - val_loss: 0.7661 - val_auc: 0.5142\n",
      "Epoch 10/10\n",
      "540/540 [==============================] - 18s 33ms/step - loss: 1.5242 - auc: 0.5719 - val_loss: 0.6972 - val_auc: 0.5232\n"
     ]
    }
   ],
   "source": [
    "model1 = conv1d_model(drop_id=True)\n",
    "\n",
    "METRICS = [keras.metrics.AUC(name='auc')]\n",
    "\n",
    "model1.compile(\n",
    "    optimizer='RMSProp',\n",
    "    loss='binary_crossentropy',\n",
    "    metrics=METRICS)\n",
    "\n",
    "hist1 = model1.fit(x = train_X,              # feature matrix   \n",
    "                   y = train_y,              # target vector \n",
    "                   sample_weight = train_w,  # weight vector\n",
    "            validation_data=(valid_X,\n",
    "                             valid_y), # validation data\n",
    "            epochs = 10,  # number of iterations\n",
    "            batch_size = 512,      # batch size\n",
    "            callbacks = [TqdmCallback(verbose=0)], # tqdm for keras\n",
    "            verbose=1) # turn of training messagaes"
   ]
  }
 ],
 "metadata": {
  "kernelspec": {
   "display_name": "Python 3 (ipykernel)",
   "language": "python",
   "name": "python3"
  },
  "language_info": {
   "codemirror_mode": {
    "name": "ipython",
    "version": 3
   },
   "file_extension": ".py",
   "mimetype": "text/x-python",
   "name": "python",
   "nbconvert_exporter": "python",
   "pygments_lexer": "ipython3",
   "version": "3.9.7"
  }
 },
 "nbformat": 4,
 "nbformat_minor": 5
}
